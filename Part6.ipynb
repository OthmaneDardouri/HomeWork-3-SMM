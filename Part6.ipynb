{
 "cells": [
  {
   "cell_type": "code",
   "execution_count": 31,
   "metadata": {},
   "outputs": [],
   "source": [
    "import numpy as np\n",
    "import matplotlib.pyplot as plt\n",
    "import scipy.io\n",
    "import warnings\n",
    "warnings.filterwarnings('ignore')"
   ]
  },
  {
   "cell_type": "code",
   "execution_count": 32,
   "metadata": {},
   "outputs": [
    {
     "name": "stdout",
     "output_type": "stream",
     "text": [
      "(256, 1707)\n",
      "(1707, 1)\n"
     ]
    }
   ],
   "source": [
    "mat_data = scipy.io.loadmat('MNIST.mat')\n",
    "X = mat_data['X']\n",
    "Y = mat_data['I'].T\n",
    "print(X.shape)\n",
    "print(Y.shape)"
   ]
  },
  {
   "cell_type": "code",
   "execution_count": 33,
   "metadata": {},
   "outputs": [],
   "source": [
    "def backtracking(f, grad_f, x, Xhat):\n",
    "    alpha = 1\n",
    "    c = 0.8\n",
    "    tau = 0.25\n",
    "    while np.linalg.norm(f(x - alpha * grad_f(x, Xhat), Xhat)) > np.linalg.norm(f(x, Xhat)) - c * alpha * np.linalg.norm(grad_f(x, Xhat), 2) ** 2:\n",
    "        alpha = tau * alpha\n",
    "        if alpha < 1e-3:\n",
    "            break\n",
    "    return alpha"
   ]
  },
  {
   "cell_type": "code",
   "execution_count": 34,
   "metadata": {},
   "outputs": [],
   "source": [
    "def GD(f, grad_f, x0, D, kmax, tolf, tolx):\n",
    "    X, y = D\n",
    "    N = X.shape[1]\n",
    "    Xhat =  np.concatenate((np.ones((1,N)), X), axis=0)\n",
    "    xsol=x0\n",
    "    x=[x0]\n",
    "    err=[np.linalg.norm(grad_f(xsol,Xhat))]\n",
    "    i=0\n",
    "    cond = True\n",
    "    while i < kmax and cond :\n",
    "        alpha = backtracking(f, grad_f, xsol, Xhat)\n",
    "        xsol=(xsol-alpha*grad_f(xsol,Xhat))\n",
    "        x.append(xsol)\n",
    "        err.append(np.linalg.norm(grad_f(xsol, Xhat)))\n",
    "        i+=1\n",
    "        cond =  np.linalg.norm(grad_f(xsol, Xhat)) > tolf*np.linalg.norm(grad_f(x0, Xhat)) and np.linalg.norm(x[i]-x[i-1]) > tolx\n",
    "    return x,i,err"
   ]
  },
  {
   "cell_type": "code",
   "execution_count": 35,
   "metadata": {},
   "outputs": [],
   "source": [
    "def sigmoid(x):\n",
    "    return 1 / (1 + np.exp(-x))\n",
    "\n",
    "def grad_sigmoid(x):\n",
    "    sig = sigmoid(x)\n",
    "    return sig * (1 - sig)"
   ]
  },
  {
   "cell_type": "code",
   "execution_count": 36,
   "metadata": {},
   "outputs": [],
   "source": [
    "def f(w, X):\n",
    "    return sigmoid(X.T @ w)  \n",
    "\n",
    "def grad_f(w, X): # w (257,1)  X (257,210)\n",
    "    #print(w.shape,X.shape)\n",
    "    z = X.T @ w  # (210,1)\n",
    "    #print(grad_sigmoid(z).shape)\n",
    "    return X@grad_sigmoid(z) # (257,1)"
   ]
  },
  {
   "cell_type": "code",
   "execution_count": 37,
   "metadata": {},
   "outputs": [],
   "source": [
    "def loss(f, w, D):\n",
    "    X, y = D\n",
    "    N = X.shape[1]\n",
    "    MSE_s = 0\n",
    "    for i in range(N):\n",
    "        y_pred = f(w,X[:,i:i+1])\n",
    "        MSE_s += np.square(y_pred -y[i,0])\n",
    "    return MSE_s/N\n",
    "    \n",
    "def grad_loss(f, grad_f, w, D):\n",
    "    X, y = D\n",
    "    N = X.shape[1]\n",
    "    gradient = 0\n",
    "    for i in range(N):\n",
    "        # Compute the prediction using the sigmoid function\n",
    "        y_pred = f(w, X[:, i:i+1])\n",
    "        # Compute the gradient of the loss with respect to the prediction\n",
    "        dL_dy = 2 * (y_pred - y[i, 0])  # Gradient of Mean Squared Error (1,1)\n",
    "        # Compute the gradient of the prediction with respect to the weights\n",
    "        grad_f_w = grad_f(w, X[:, i:i+1]) #(257,1)\n",
    "        # Update the gradient of the loss with respect to the weights\n",
    "        gradient += grad_f_w @ dL_dy    #(257,1)\n",
    "    return gradient/N #(257,1)"
   ]
  },
  {
   "cell_type": "code",
   "execution_count": 38,
   "metadata": {},
   "outputs": [],
   "source": [
    "def SGD(loss, grad_loss, f, grad_f, w0, D, batch_size, n_epochs, learning_rate=1e-2):\n",
    "    # Initialize w\n",
    "    w = w0\n",
    "    f_val = []\n",
    "    w_vec = []\n",
    "    grads = []\n",
    "    err = []\n",
    "    # Extract X and y\n",
    "    X, y = D\n",
    "    N = X.shape[1]\n",
    "    Xhat =  np.concatenate((np.ones((1,N)), X), axis=0)\n",
    "    # Compute the number of batches per epoch\n",
    "    n_batch_per_epoch = N // batch_size\n",
    "    # Iterate over the epochs\n",
    "    for epoch in range(n_epochs):\n",
    "        idx = np.arange(N)\n",
    "        np.random.shuffle(idx)\n",
    "        # Batch iteration\n",
    "        for k in range(n_batch_per_epoch):\n",
    "            X_temp = Xhat[:,idx[k * batch_size : (k+1) * batch_size]]\n",
    "            y_temp = y[idx[k * batch_size : (k+1) * batch_size],:]\n",
    "            # Gradient descent update \n",
    "            w =  w - learning_rate * grad_loss(f, grad_f, w, (X_temp,y_temp))\n",
    "        w_vec.append(w)\n",
    "        f_val.append(loss(f, w, (Xhat, y)))\n",
    "        grads.append(grad_loss(f, grad_f, w, (Xhat, y)))\n",
    "        err.append(np.linalg.norm(grads[-1]))\n",
    "    return w_vec, f_val, grads, err "
   ]
  },
  {
   "cell_type": "code",
   "execution_count": 39,
   "metadata": {},
   "outputs": [],
   "source": [
    "C1 = 6 #int(input(\"First digit:\"))\n",
    "C2 = 8 #int(input(\"Second digit:\"))\n",
    "idx = (Y[:,0] == C1) | (Y[:,0] == C2)\n",
    "Ys = Y[idx,:]\n",
    "for i in range(Ys.shape[0]):\n",
    "    Ys[i,:] = 0 if Ys[i,:] == C1 else 1\n",
    "Xs = X[:,idx]"
   ]
  },
  {
   "cell_type": "code",
   "execution_count": 40,
   "metadata": {},
   "outputs": [
    {
     "name": "stdout",
     "output_type": "stream",
     "text": [
      "Train= 210\n",
      "Test= 85\n"
     ]
    }
   ],
   "source": [
    "def train_test_split(X, Y, N_train):\n",
    "    d,N = X.shape\n",
    "    idx = np.arange(0, N)\n",
    "    np.random.shuffle(idx)\n",
    "    train_idx = idx[:N_train]\n",
    "    test_idx = idx[N_train:]\n",
    "    X_train = X[:,train_idx]\n",
    "    Y_train = Y[train_idx,:]\n",
    "    X_test = X[:,test_idx]\n",
    "    Y_test = Y[test_idx,:]\n",
    "    return X_train,Y_train,X_test,Y_test\n",
    "    \n",
    "X_train,Y_train,X_test,Y_test = train_test_split(Xs, Ys, int(Xs.shape[1]/1.4))\n",
    "N = X_train.shape[1]\n",
    "print(\"Train=\",N)\n",
    "print(\"Test=\",X_test.shape[1])"
   ]
  },
  {
   "cell_type": "markdown",
   "metadata": {},
   "source": [
    "### With SGD"
   ]
  },
  {
   "cell_type": "code",
   "execution_count": 41,
   "metadata": {},
   "outputs": [],
   "source": [
    "w0 = np.random.random((257,1))*0.01\n",
    "w_v, f_v, grads_v, err_v = SGD(loss, grad_loss, f, grad_f, w0, (X_train,Y_train), 10, 50)"
   ]
  },
  {
   "cell_type": "code",
   "execution_count": 42,
   "metadata": {},
   "outputs": [
    {
     "data": {
      "image/png": "[encoded data removed]",
      "text/plain": [
       "<Figure size 640x480 with 1 Axes>"
      ]
     },
     "metadata": {},
     "output_type": "display_data"
    }
   ],
   "source": [
    "def predict(w, X, Y, treshold=0.5):\n",
    "    N = X.shape[1]\n",
    "    a = []\n",
    "    cnt = 0\n",
    "    x = np.concatenate((np.ones((1,N)), X), axis=0)\n",
    "    for i in range(N):\n",
    "        a.append(1 if f(w,x[:,i]) > treshold else 0)\n",
    "        if a[-1] == Y[i,0]:\n",
    "            cnt += 1\n",
    "    return a,cnt\n",
    "plt.plot(err_v)\n",
    "plt.show()"
   ]
  },
  {
   "cell_type": "markdown",
   "metadata": {},
   "source": [
    "for i in range(X_test.shape[1]):\n",
    "    print(predict(x_comp[-1], X_test[:,i]),Y_test[i,0])\n"
   ]
  },
  {
   "cell_type": "code",
   "execution_count": 43,
   "metadata": {},
   "outputs": [
    {
     "name": "stdout",
     "output_type": "stream",
     "text": [
      "Matches on train Set: 209\n",
      "Total entries on train Set: 210\n",
      "Accuracy on train Set: 99.52\n",
      "Matches on test Set: 84\n",
      "Total entries on test Set: 85\n",
      "Accuracy on test Set: 98.82\n"
     ]
    }
   ],
   "source": [
    "a, tot_train = predict(w_v[-1],X_train,Y_train)\n",
    "N_train = X_train.shape[1]\n",
    "print(\"Matches on train Set:\", tot_train)\n",
    "print(\"Total entries on train Set:\", N_train)\n",
    "print(\"Accuracy on train Set:\", round(tot_train/N_train*100, 2))\n",
    "a, tot_test = predict(w_v[-1],X_test,Y_test)\n",
    "N_test = X_test.shape[1]\n",
    "print(\"Matches on test Set:\", tot_test)\n",
    "print(\"Total entries on test Set:\", N_test)\n",
    "print(\"Accuracy on test Set:\", round(tot_test/N_test*100, 2))"
   ]
  },
  {
   "cell_type": "markdown",
   "metadata": {},
   "source": [
    "### With GD"
   ]
  },
  {
   "cell_type": "code",
   "execution_count": 44,
   "metadata": {},
   "outputs": [
    {
     "name": "stdout",
     "output_type": "stream",
     "text": [
      "K= 10000\n",
      "Error= 0.02618868417833393\n"
     ]
    }
   ],
   "source": [
    "x_comp, i_comp, err_comp = GD(f,grad_f,w0,(X_train,Y_train),10000, 1e-5, 1e-5)\n",
    "#print(\"x=\",x_comp[-1])\n",
    "print(\"K=\",i_comp)\n",
    "print(\"Error=\",err_comp[-1])"
   ]
  },
  {
   "cell_type": "code",
   "execution_count": 45,
   "metadata": {},
   "outputs": [
    {
     "data": {
      "image/png": "[encoded data removed]",
      "text/plain": [
       "<Figure size 640x480 with 1 Axes>"
      ]
     },
     "metadata": {},
     "output_type": "display_data"
    }
   ],
   "source": [
    "plt.plot(err_comp)\n",
    "plt.show()"
   ]
  },
  {
   "cell_type": "code",
   "execution_count": 46,
   "metadata": {},
   "outputs": [
    {
     "name": "stdout",
     "output_type": "stream",
     "text": [
      "Matches on train Set: 105\n",
      "Total entries on train Set: 210\n",
      "Accuracy on train Set: 50.0\n",
      "Matches on test Set: 46\n",
      "Total entries on test Set: 85\n",
      "Accuracy on test Set: 54.12\n"
     ]
    }
   ],
   "source": [
    "a, tot_train = predict(x_comp[-1],X_train,Y_train)\n",
    "N_train = X_train.shape[1]\n",
    "print(\"Matches on train Set:\", tot_train)\n",
    "print(\"Total entries on train Set:\", N_train)\n",
    "print(\"Accuracy on train Set:\", round(tot_train/N_train*100, 2))\n",
    "a, tot_test = predict(x_comp[-1],X_test,Y_test)\n",
    "N_test = X_test.shape[1]\n",
    "print(\"Matches on test Set:\", tot_test)\n",
    "print(\"Total entries on test Set:\", N_test)\n",
    "print(\"Accuracy on test Set:\", round(tot_test/N_test*100, 2))"
   ]
  }
 ],
 "metadata": {
  "kernelspec": {
   "display_name": "Python 3",
   "language": "python",
   "name": "python3"
  },
  "language_info": {
   "codemirror_mode": {
    "name": "ipython",
    "version": 3
   },
   "file_extension": ".py",
   "mimetype": "text/x-python",
   "name": "python",
   "nbconvert_exporter": "python",
   "pygments_lexer": "ipython3",
   "version": "3.12.0"
  }
 },
 "nbformat": 4,
 "nbformat_minor": 2
}
